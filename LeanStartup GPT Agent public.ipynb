{
 "cells": [
  {
   "cell_type": "code",
   "execution_count": null,
   "outputs": [],
   "source": [
    "!pip install langchain\n",
    "!pip install openai\n",
    "!pip install google-search-results"
   ],
   "metadata": {
    "collapsed": false
   }
  },
  {
   "cell_type": "code",
   "execution_count": 2,
   "outputs": [],
   "source": [
    "serpapi_key = 'SERPAPI_KEY'\n",
    "open_api_key = 'OPEN_API_KEY'"
   ],
   "metadata": {
    "collapsed": false
   }
  },
  {
   "cell_type": "code",
   "execution_count": 2,
   "metadata": {},
   "outputs": [],
   "source": [
    "from langchain.llms import OpenAI\n",
    "from langchain.prompts import PromptTemplate\n",
    "from langchain.chains import LLMChain, SequentialChain \n",
    "from langchain.memory import ConversationBufferMemory\n",
    "from langchain.utilities import WikipediaAPIWrapper \n",
    "from langchain.llms import OpenAI\n",
    "from langchain.utilities import SerpAPIWrapper\n",
    "from langchain.agents import initialize_agent, Tool\n",
    "from langchain.agents import load_tools\n",
    "from langchain.agents import AgentTypeª\n",
    "\n"
   ]
  },
  {
   "cell_type": "code",
   "execution_count": 3,
   "metadata": {},
   "outputs": [
    {
     "ename": "NameError",
     "evalue": "name 'open_api_key' is not defined",
     "output_type": "error",
     "traceback": [
      "\u001B[1;31m---------------------------------------------------------------------------\u001B[0m",
      "\u001B[1;31mNameError\u001B[0m                                 Traceback (most recent call last)",
      "\u001B[1;32m<ipython-input-3-4c5474a2a016>\u001B[0m in \u001B[0;36m<module>\u001B[1;34m\u001B[0m\n\u001B[0;32m      1\u001B[0m \u001B[1;31m# define the llm model\u001B[0m\u001B[1;33m\u001B[0m\u001B[1;33m\u001B[0m\u001B[0m\n\u001B[0;32m      2\u001B[0m \u001B[1;33m\u001B[0m\u001B[0m\n\u001B[1;32m----> 3\u001B[1;33m \u001B[0mllm\u001B[0m \u001B[1;33m=\u001B[0m \u001B[0mOpenAI\u001B[0m\u001B[1;33m(\u001B[0m\u001B[0mopenai_api_key\u001B[0m\u001B[1;33m=\u001B[0m\u001B[0mopen_api_key\u001B[0m\u001B[1;33m,\u001B[0m \u001B[0mtemperature\u001B[0m\u001B[1;33m=\u001B[0m\u001B[1;36m0.8\u001B[0m\u001B[1;33m)\u001B[0m\u001B[1;33m\u001B[0m\u001B[1;33m\u001B[0m\u001B[0m\n\u001B[0m",
      "\u001B[1;31mNameError\u001B[0m: name 'open_api_key' is not defined"
     ]
    }
   ],
   "source": [
    "# define the llm model\n",
    "\n",
    "llm = OpenAI(openai_api_key=open_api_key, temperature=0.8) "
   ]
  },
  {
   "cell_type": "code",
   "execution_count": 5,
   "metadata": {},
   "outputs": [],
   "source": [
    "# Define your job-to-be-done and customer to be explored\n",
    "\n",
    "customer_description = 'a family consisting of two adults and two children with average income who are renting anu apartment in a big city'\n",
    "job_to_be_done = 'monitoring and paying energy bills'"
   ]
  },
  {
   "cell_type": "code",
   "execution_count": 6,
   "metadata": {},
   "outputs": [
    {
     "name": "stdout",
     "output_type": "stream",
     "text": [
      "\n",
      "\n",
      "\u001B[1m> Entering new LLMChain chain...\u001B[0m\n",
      "Prompt after formatting:\n",
      "\u001B[32;1m\u001B[1;3mYou are a family consisting of two adults and two children with average income who are renting anu apartment in a big city. What is the hardest part about monitoring and paying energy bills?\u001B[0m\n",
      "\n",
      "\u001B[1m> Finished chain.\u001B[0m\n",
      "\n",
      "\n",
      "The hardest part about monitoring and paying energy bills for a family of two adults and two children renting an apartment in a big city is trying to keep costs under control. Big city living is expensive, and energy costs can add up quickly. It is important to be aware of energy usage and find ways to conserve, such as using LED light bulbs, unplugging appliances when not in use, and using the most efficient appliances available. Additionally, it can be difficult to stay up to date with energy bills and make sure that payments are made on time to avoid late fees and penalties.\n"
     ]
    }
   ],
   "source": [
    "# Prompt hardest part of job to be done for customer\n",
    "hardest_template = PromptTemplate(\n",
    "    input_variables = ['customer_description','job_to_be_done'], \n",
    "    template='You are {customer_description}. What is the hardest part about {job_to_be_done}?')\n",
    "\n",
    "hardest_chain = LLMChain(llm=llm, prompt=hardest_template, verbose=True, output_key='hardest_part')\n",
    "\n",
    "hardest = hardest_chain.run(customer_description=customer_description, job_to_be_done=job_to_be_done)\n",
    "\n",
    "print(hardest)"
   ]
  },
  {
   "cell_type": "code",
   "execution_count": 7,
   "metadata": {},
   "outputs": [
    {
     "name": "stdout",
     "output_type": "stream",
     "text": [
      "\n",
      "\n",
      "\u001B[1m> Entering new LLMChain chain...\u001B[0m\n",
      "Prompt after formatting:\n",
      "\u001B[32;1m\u001B[1;3mCreate a unique value proposition for a startup that solves the problem of \n",
      "\n",
      "The hardest part about monitoring and paying energy bills for a family of two adults and two children renting an apartment in a big city is trying to keep costs under control. Big city living is expensive, and energy costs can add up quickly. It is important to be aware of energy usage and find ways to conserve, such as using LED light bulbs, unplugging appliances when not in use, and using the most efficient appliances available. Additionally, it can be difficult to stay up to date with energy bills and make sure that payments are made on time to avoid late fees and penalties.\u001B[0m\n",
      "\n",
      "\u001B[1m> Finished chain.\u001B[0m\n",
      "\n",
      "\n",
      "Our startup offers a unique value proposition for families in a big city who are trying to manage their energy costs. Our platform will provide real-time monitoring and insights into energy usage, helping you to understand what you’re using and how you can save money. We’ll also make it easy to pay your energy bills on time, with automatic payments and reminders to help you stay on top of bills. Our platform is easy to use, and with our helpful tools and resources, you’ll be able to manage your energy costs with confidence.\n"
     ]
    }
   ],
   "source": [
    "# Prompt value proposition to solve hardest part of job-to-be-done\n",
    "\n",
    "value_proposition_template = PromptTemplate(\n",
    "    input_variables = ['hardest_part'], \n",
    "    template='Create a unique value proposition for a startup that solves the problem of {hardest_part}')\n",
    "\n",
    "value_proposition_chain = LLMChain(llm=llm, prompt=value_proposition_template, verbose=True, output_key='value_proposition')\n",
    "\n",
    "valueproposition = value_proposition_chain.run(hardest_part=hardest)\n",
    "\n",
    "print(valueproposition)\n"
   ]
  },
  {
   "cell_type": "code",
   "execution_count": 8,
   "metadata": {},
   "outputs": [
    {
     "name": "stdout",
     "output_type": "stream",
     "text": [
      "\n",
      "\n",
      "\u001B[1m> Entering new LLMChain chain...\u001B[0m\n",
      "Prompt after formatting:\n",
      "\u001B[32;1m\u001B[1;3mProvide the value proposition canvas for \n",
      "\n",
      "Our startup offers a unique value proposition for families in a big city who are trying to manage their energy costs. Our platform will provide real-time monitoring and insights into energy usage, helping you to understand what you’re using and how you can save money. We’ll also make it easy to pay your energy bills on time, with automatic payments and reminders to help you stay on top of bills. Our platform is easy to use, and with our helpful tools and resources, you’ll be able to manage your energy costs with confidence.. You should describe the following elements: customer jobs, custome pains, customer gains, products and services, pain relievers, gain creators\u001B[0m\n",
      "\n",
      "\u001B[1m> Finished chain.\u001B[0m\n",
      ", key activities, channels, customer relationships, revenue streams and cost structure. \n",
      "\n",
      "Customer Jobs: Families in a big city want to manage their energy costs without taking too much time or effort. \n",
      "\n",
      "Customer Pains: Difficulty understanding energy usage and when bills are due, or how to save money on energy costs. \n",
      "\n",
      "Customer Gains: Able to understand usage and save money on energy costs, knowing when bills are due and being able to pay them on time.\n",
      "\n",
      "Products and Services: Real-time monitoring and insights into energy usage, automatic payments and reminders to help pay bills on time, helpful tools and resources to manage energy costs.\n",
      "\n",
      "Pain Relievers: Real-time insights and monitoring, helpful tools and resources to understand and manage energy costs, automatic payments and reminders to pay bills on time.\n",
      "\n",
      "Gain Creators: The ability to understand usage and save money on energy costs, knowing when bills are due and being able to pay them on time.\n",
      "\n",
      "Key Activities: Developing user friendly platform, providing helpful tools and resources, creating automatic payment and reminder systems.\n",
      "\n",
      "Channels: Mobile App, website, social media and digital marketing.\n",
      "\n",
      "Customer Relationships: Automated and personalized customer service, and providing\n"
     ]
    }
   ],
   "source": [
    "# Prompt description value proposition canvas\n",
    "\n",
    "canvas_template = PromptTemplate(\n",
    "    input_variables = ['value_proposition'], \n",
    "    template='Provide the value proposition canvas for {value_proposition}. You should describe the following elements: customer jobs, custome pains, customer gains, products and services, pain relievers, gain creators')\n",
    "\n",
    "canvas_chain = LLMChain(llm=llm, prompt=canvas_template, verbose=True, output_key='canvas')\n",
    "\n",
    "canvas = canvas_chain.run(value_proposition=valueproposition)\n",
    "\n",
    "print(canvas)\n",
    "\n"
   ]
  },
  {
   "cell_type": "code",
   "execution_count": 12,
   "metadata": {},
   "outputs": [
    {
     "name": "stdout",
     "output_type": "stream",
     "text": [
      "\n",
      "\n",
      "\u001B[1m> Entering new LLMChain chain...\u001B[0m\n",
      "Prompt after formatting:\n",
      "\u001B[32;1m\u001B[1;3mFind three existing startup companies that have a description that is very similar to the following description: \n",
      "\n",
      "Our startup offers a unique value proposition for families in a big city who are trying to manage their energy costs. Our platform will provide real-time monitoring and insights into energy usage, helping you to understand what you’re using and how you can save money. We’ll also make it easy to pay your energy bills on time, with automatic payments and reminders to help you stay on top of bills. Our platform is easy to use, and with our helpful tools and resources, you’ll be able to manage your energy costs with confidence.. For each startup, provide company name, location and website.\u001B[0m\n",
      "\n",
      "\u001B[1m> Finished chain.\u001B[0m\n",
      "\n",
      "\n",
      "1. WattTime, Oakland, CA, https://watttime.org/\n",
      "2. ohmconnect, San Francisco, CA, https://www.ohmconnect.com/\n",
      "3. EnergyHub, New York, NY, https://energyhub.com/\n"
     ]
    }
   ],
   "source": [
    "# Prompt identification of core competitors for this value proposition\n",
    "\n",
    "competitors_template = PromptTemplate(\n",
    "    input_variables = ['value_proposition'], \n",
    "    template='Find three existing startup companies that have a description that is very similar to the following description: {value_proposition}. For each startup, provide company name, location and website.')\n",
    "\n",
    "competitors_chain = LLMChain(llm=llm, prompt=competitors_template, verbose=True, output_key='competitors')\n",
    "\n",
    "competitors = competitors_chain.run(value_proposition=valueproposition)\n",
    "\n",
    "print(competitors)"
   ]
  },
  {
   "cell_type": "code",
   "execution_count": 18,
   "metadata": {},
   "outputs": [
    {
     "name": "stdout",
     "output_type": "stream",
     "text": [
      "\n",
      "\n",
      "\u001B[1m> Entering new AgentExecutor chain...\u001B[0m\n",
      "\u001B[32;1m\u001B[1;3m Yes.\n",
      "Follow up: What is WattTime?\u001B[0m\n",
      "Intermediate answer: \u001B[36;1m\u001B[1;3mWattTime is an environmental tech nonprofit that empowers all people, companies, policymakers, and countries to slash emissions and choose cleaner energy.\u001B[0m\n",
      "\u001B[32;1m\u001B[1;3m\n",
      "Follow up: Who are the founders of WattTime?\u001B[0m\n",
      "Intermediate answer: \u001B[36;1m\u001B[1;3mGavin McCormick is co-founder and executive director of WattTime. Academic and social entrepreneur, Gavin applies behavioral economics to energy markets to develop ultra-low-cost techniques to deliver more renewable power and energy efficiency at scale.\u001B[0m\n",
      "\u001B[32;1m\u001B[1;3m\n",
      "Danielle Fugere is co-founder and president of WattTime. She has a background in clean energy policy and political action, having most recently served as the Climate Law Institute's President and Chief Counsel. \n",
      "\n",
      "Dr. Alexander “Sandy” MacDonald is the Chief Science Officer at WattTime, and has over 25 years of experience in energy system analytics, optimization, and control. \n",
      "\n",
      "So the final answer is: WattTime is an environmental tech nonprofit that empowers all people, companies, policymakers, and countries to slash emissions and choose cleaner energy. The founders are Gavin McCormick, Danielle Fugere, and Alexander “Sandy” MacDonald.\u001B[0m\n",
      "\n",
      "\u001B[1m> Finished chain.\u001B[0m\n",
      "\n",
      "\n",
      "\u001B[1m> Entering new AgentExecutor chain...\u001B[0m\n",
      "\u001B[32;1m\u001B[1;3m Yes.\n",
      "Follow up: What is the company description of 2. ohmconnect?\u001B[0m\n",
      "Intermediate answer: \u001B[36;1m\u001B[1;3mOhmConnect's Mission. Rally people to change how and when they use electricity — unlocking clean, affordable and reliable energy. OhmConnect team group photo ...\u001B[0m\n",
      "\u001B[32;1m\u001B[1;3mFollow up: Who are the founders of ohmconnect?\u001B[0m\n",
      "Intermediate answer: \u001B[36;1m\u001B[1;3mMatt Duesterberg. Co-Founder at OhmConnect. OhmConnectStanford University. San Francisco, California, United States. 4K followers ...\u001B[0m\n",
      "\u001B[32;1m\u001B[1;3mSo the final answer is: OhmConnect's mission is to rally people to change how and when they use electricity to unlock clean, affordable and reliable energy. The founders of ohmconnect are Matt Duesterberg and Curtis Tongue.\u001B[0m\n",
      "\n",
      "\u001B[1m> Finished chain.\u001B[0m\n",
      "\n",
      "\n",
      "\u001B[1m> Entering new AgentExecutor chain...\u001B[0m\n",
      "\u001B[32;1m\u001B[1;3m Yes.\n",
      "Follow up: What is the company description of EnergyHub?\u001B[0m\n",
      "Intermediate answer: \u001B[36;1m\u001B[1;3mEnergyHub Inc (EnergyHub), a subsidiary of Alarmcom Holdings Inc, is a technology-based company that offers cloud-based energy management software platform solutions. It provides turnkey demand response program services and energy management services to access energy usage information.\u001B[0m\n",
      "\u001B[32;1m\u001B[1;3m\n",
      "Follow up: Who are the founders of EnergyHub?\u001B[0m\n",
      "Intermediate answer: \u001B[36;1m\u001B[1;3mSeth co-founded EnergyHub in 2007 and continues to serve as its President. Under his leadership, EnergyHub has become a leading Distributed Energy Resource ...\u001B[0m\n",
      "\u001B[32;1m\u001B[1;3mMatt also co-founded EnergyHub in 2007 and served as the company's Chief Executive Officer until 2017.\n",
      "\n",
      "So the final answer is: EnergyHub Inc (EnergyHub), a subsidiary of Alarmcom Holdings Inc, is a technology-based company that offers cloud-based energy management software platform solutions. It provides turnkey demand response program services and energy management services to access energy usage information. The founders of EnergyHub are Seth and Matt.\u001B[0m\n",
      "\n",
      "\u001B[1m> Finished chain.\u001B[0m\n",
      "['WattTime is an environmental tech nonprofit that empowers all people, companies, policymakers, and countries to slash emissions and choose cleaner energy. The founders are Gavin McCormick, Danielle Fugere, and Alexander “Sandy” MacDonald.', \"OhmConnect's mission is to rally people to change how and when they use electricity to unlock clean, affordable and reliable energy. The founders of ohmconnect are Matt Duesterberg and Curtis Tongue.\", 'EnergyHub Inc (EnergyHub), a subsidiary of Alarmcom Holdings Inc, is a technology-based company that offers cloud-based energy management software platform solutions. It provides turnkey demand response program services and energy management services to access energy usage information. The founders of EnergyHub are Seth and Matt.']\n"
     ]
    }
   ],
   "source": [
    "# Prompt collecting additional information on competitors via SerpAPI\n",
    "\n",
    "\n",
    "competitorsselect = competitors[5:]\n",
    "\n",
    "# split string based on .\n",
    "\n",
    "competitors_list = competitorsselect.split('\\n')\n",
    "\n",
    "competitors_list\n",
    "\n",
    "# get informatin for competitors\n",
    "\n",
    "search = SerpAPIWrapper(serpapi_api_key = serpapi_key)\n",
    "search_tool = [Tool(\n",
    "        name=\"Intermediate Answer\",\n",
    "        func=search.run,\n",
    "        description=\"useful for when you need to ask with search\")]\n",
    "\n",
    "self_ask_with_search = initialize_agent(search_tool, llm, agent=AgentType.SELF_ASK_WITH_SEARCH, verbose=True)\n",
    "\n",
    "descriptionlist = []\n",
    "\n",
    "for i in range(len(competitors_list)):\n",
    "    company = competitors_list[i]\n",
    "    searchstring = \"Provide company information for \" + company + \". Include company description and founders\"\n",
    "    result = self_ask_with_search.run(searchstring)\n",
    "    descriptionlist.append(result)\n",
    "\n",
    "print(descriptionlist)"
   ]
  },
  {
   "cell_type": "code",
   "execution_count": 14,
   "metadata": {},
   "outputs": [
    {
     "name": "stdout",
     "output_type": "stream",
     "text": [
      "\n",
      "\n",
      "\u001B[1m> Entering new LLMChain chain...\u001B[0m\n",
      "Prompt after formatting:\n",
      "\u001B[32;1m\u001B[1;3mGenerate a list of hypotheses for testing the following value proposition: \n",
      "\n",
      "Our startup offers a unique value proposition for families in a big city who are trying to manage their energy costs. Our platform will provide real-time monitoring and insights into energy usage, helping you to understand what you’re using and how you can save money. We’ll also make it easy to pay your energy bills on time, with automatic payments and reminders to help you stay on top of bills. Our platform is easy to use, and with our helpful tools and resources, you’ll be able to manage your energy costs with confidence.. You should rely on information from the value proposition canvas: , key activities, channels, customer relationships, revenue streams and cost structure. \n",
      "\n",
      "Customer Jobs: Families in a big city want to manage their energy costs without taking too much time or effort. \n",
      "\n",
      "Customer Pains: Difficulty understanding energy usage and when bills are due, or how to save money on energy costs. \n",
      "\n",
      "Customer Gains: Able to understand usage and save money on energy costs, knowing when bills are due and being able to pay them on time.\n",
      "\n",
      "Products and Services: Real-time monitoring and insights into energy usage, automatic payments and reminders to help pay bills on time, helpful tools and resources to manage energy costs.\n",
      "\n",
      "Pain Relievers: Real-time insights and monitoring, helpful tools and resources to understand and manage energy costs, automatic payments and reminders to pay bills on time.\n",
      "\n",
      "Gain Creators: The ability to understand usage and save money on energy costs, knowing when bills are due and being able to pay them on time.\n",
      "\n",
      "Key Activities: Developing user friendly platform, providing helpful tools and resources, creating automatic payment and reminder systems.\n",
      "\n",
      "Channels: Mobile App, website, social media and digital marketing.\n",
      "\n",
      "Customer Relationships: Automated and personalized customer service, and providing. Include at least 3 hypotheses. Each hypothesis should focus on the feasibility or viability of the business model. Here are some potential topics for hypotheses testing: willingness to pay, preferred distribution model, ultimate customer segmet, etc.\u001B[0m\n",
      "\n",
      "\u001B[1m> Finished chain.\u001B[0m\n",
      "\n",
      "\n",
      "Hypothesis 1: Families in a big city are willing to pay for a platform that provides real-time monitoring and insights into energy usage, helping them to understand what they’re using and how they can save money. \n",
      "\n",
      "Hypothesis 2: Families in a big city prefer a mobile app as the primary channel for accessing the platform. \n",
      "\n",
      "Hypothesis 3: The ultimate customer segment for this platform is families in big cities who are already actively seeking out energy saving solutions.\n"
     ]
    }
   ],
   "source": [
    "# Prompt Generation of hypothese for testing value proposition\n",
    "\n",
    "hypotheses_template = PromptTemplate(\n",
    "    input_variables = ['value_proposition', 'canvas'], \n",
    "    template='Generate a list of hypotheses for testing the following value proposition: {value_proposition}. You should rely on information from the value proposition canvas: {canvas}. Include at least 3 hypotheses. Each hypothesis should focus on the feasibility or viability of the business model. Here are some potential topics for hypotheses testing: willingness to pay, preferred distribution model, ultimate customer segmet, etc.')\n",
    "\n",
    "hypotheses_chain = LLMChain(llm=llm, prompt=hypotheses_template, verbose=True, output_key='hypotheses')\n",
    "\n",
    "hypotheses = hypotheses_chain.run(value_proposition=valueproposition, canvas=canvas)\n",
    "\n",
    "print(hypotheses)"
   ]
  },
  {
   "cell_type": "code",
   "execution_count": 20,
   "metadata": {},
   "outputs": [],
   "source": [
    "# Write input and output to text file\n",
    "\n",
    "with open('lean startup description.txt', 'w') as f:\n",
    "    f.write('Input job to be done = ' + job_to_be_done + '\\n')\n",
    "    f.write('Input customer description = ' + customer_description + '\\n')\n",
    "    f.write('\\n' + 'GPT output hardest part of job to be done = ' + hardest +  '\\n')\n",
    "    f.write('\\n' + 'GPT output value proposition = ' + valueproposition +  '\\n')\n",
    "    f.write('\\n' + 'GPT output value proposition canvas = ' + canvas +  '\\n')\n",
    "    f.write('\\n' + 'GPT output most similar competitors = ' + competitors +  '\\n')\n",
    "    f.write('\\n' + 'GPT output company description competitor 1 = ' + str(descriptionlist[0]) +  '\\n')\n",
    "    f.write('\\n' + 'GPT output company description competitor 2 = ' + str(descriptionlist[1]) +  '\\n')\n",
    "    f.write('\\n' + 'GPT output company description competitor 3 = ' + str(descriptionlist[2]) +  '\\n')\n",
    "    f.write('\\n' + 'GPT output hypotheses = ' + hypotheses +  '\\n')"
   ]
  }
 ],
 "metadata": {
  "kernelspec": {
   "display_name": "base",
   "language": "python",
   "name": "python3"
  },
  "language_info": {
   "codemirror_mode": {
    "name": "ipython",
    "version": 3
   },
   "file_extension": ".py",
   "mimetype": "text/x-python",
   "name": "python",
   "nbconvert_exporter": "python",
   "pygments_lexer": "ipython3",
   "version": "3.9.12"
  },
  "orig_nbformat": 4
 },
 "nbformat": 4,
 "nbformat_minor": 2
}
